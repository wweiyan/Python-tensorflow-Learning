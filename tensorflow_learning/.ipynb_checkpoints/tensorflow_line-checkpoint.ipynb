{
 "cells": [
  {
   "cell_type": "code",
   "execution_count": 3,
   "metadata": {},
   "outputs": [],
   "source": [
    "%matplotlib inline\n",
    "import tensorflow as tf\n",
    "import numpy\n",
    "import matplotlib.pyplot as plt\n",
    "rng = numpy.random\n",
    "\n",
    "# Parameters\n",
    "learning_rate = 0.01\n",
    "training_epochs = 2000\n",
    "display_step = 50\n",
    "\n",
    "# Training Data\n",
    "train_X = numpy.asarray([3.3,4.4,5.5,6.71,6.93,4.168,9.779,6.182,7.59,2.167,7.042,10.791,5.313,7.997,5.654,9.27,3.1])\n",
    "train_Y = numpy.asarray([1.7,2.76,2.09,3.19,1.694,1.573,3.366,2.596,2.53,1.221,2.827,3.465,1.65,2.904,2.42,2.94,1.3])\n",
    "n_samples = train_X.shape[0]\n",
    "\n",
    "# tf Graph Input\n",
    "X = tf.placeholder(\"float\")\n",
    "Y = tf.placeholder(\"float\")\n",
    "\n",
    "# Create Model\n",
    "\n",
    "# Set model weights\n",
    "W = tf.Variable(rng.randn(), name=\"weight\")\n",
    "b = tf.Variable(rng.randn(), name=\"bias\")\n",
    "\n",
    "# Construct a linear model\n",
    "activation = tf.add(tf.multiply(X, W), b)\n",
    "\n",
    "# Minimize the squared errors\n",
    "cost = tf.reduce_sum(tf.pow(activation-Y, 2))/(2*n_samples) #L2 loss\n",
    "optimizer = tf.train.GradientDescentOptimizer(learning_rate).minimize(cost) #Gradient descent\n",
    "\n",
    "# Initializing the variables\n",
    "init = tf.global_variables_initializer()\n",
    "\n"
   ]
  },
  {
   "cell_type": "code",
   "execution_count": 4,
   "metadata": {},
   "outputs": [
    {
     "name": "stdout",
     "output_type": "stream",
     "text": [
      "Epoch: 0001 cost= 0.916057885 W= 0.47317377 b= 0.60594016\n",
      "Epoch: 0051 cost= 0.079672068 W= 0.27874494 b= 0.591754\n",
      "Epoch: 0101 cost= 0.079360180 W= 0.27701107 b= 0.6042271\n",
      "Epoch: 0151 cost= 0.079084396 W= 0.2753802 b= 0.61595935\n",
      "Epoch: 0201 cost= 0.078840666 W= 0.2738468 b= 0.6269906\n",
      "Epoch: 0251 cost= 0.078625135 W= 0.27240443 b= 0.6373668\n",
      "Epoch: 0301 cost= 0.078434609 W= 0.27104786 b= 0.647126\n",
      "Epoch: 0351 cost= 0.078266203 W= 0.269772 b= 0.6563042\n",
      "Epoch: 0401 cost= 0.078117333 W= 0.26857212 b= 0.66493654\n",
      "Epoch: 0451 cost= 0.077985749 W= 0.26744333 b= 0.67305636\n",
      "Epoch: 0501 cost= 0.077869415 W= 0.26638177 b= 0.68069357\n",
      "Epoch: 0551 cost= 0.077766605 W= 0.26538327 b= 0.6878765\n",
      "Epoch: 0601 cost= 0.077675760 W= 0.26444417 b= 0.6946321\n",
      "Epoch: 0651 cost= 0.077595457 W= 0.26356092 b= 0.7009866\n",
      "Epoch: 0701 cost= 0.077524491 W= 0.2627302 b= 0.7069626\n",
      "Epoch: 0751 cost= 0.077461787 W= 0.26194888 b= 0.7125836\n",
      "Epoch: 0801 cost= 0.077406392 W= 0.261214 b= 0.7178701\n",
      "Epoch: 0851 cost= 0.077357456 W= 0.2605228 b= 0.7228426\n",
      "Epoch: 0901 cost= 0.077314228 W= 0.2598727 b= 0.7275191\n",
      "Epoch: 0951 cost= 0.077276021 W= 0.25926134 b= 0.7319173\n",
      "Epoch: 1001 cost= 0.077242307 W= 0.2586862 b= 0.73605454\n",
      "Epoch: 1051 cost= 0.077212505 W= 0.2581453 b= 0.7399463\n",
      "Epoch: 1101 cost= 0.077186190 W= 0.25763658 b= 0.7436053\n",
      "Epoch: 1151 cost= 0.077162966 W= 0.25715807 b= 0.7470478\n",
      "Epoch: 1201 cost= 0.077142432 W= 0.25670812 b= 0.75028545\n",
      "Epoch: 1251 cost= 0.077124327 W= 0.25628495 b= 0.7533302\n",
      "Epoch: 1301 cost= 0.077108368 W= 0.2558867 b= 0.7561936\n",
      "Epoch: 1351 cost= 0.077094249 W= 0.25551218 b= 0.75888807\n",
      "Epoch: 1401 cost= 0.077081822 W= 0.2551602 b= 0.7614205\n",
      "Epoch: 1451 cost= 0.077070832 W= 0.25482893 b= 0.7638036\n",
      "Epoch: 1501 cost= 0.077061154 W= 0.25451735 b= 0.7660452\n",
      "Epoch: 1551 cost= 0.077052616 W= 0.2542245 b= 0.768152\n",
      "Epoch: 1601 cost= 0.077045076 W= 0.2539489 b= 0.770135\n",
      "Epoch: 1651 cost= 0.077038474 W= 0.25368947 b= 0.7720008\n",
      "Epoch: 1701 cost= 0.077032588 W= 0.2534459 b= 0.7737534\n",
      "Epoch: 1751 cost= 0.077027440 W= 0.2532166 b= 0.775403\n",
      "Epoch: 1801 cost= 0.077022903 W= 0.25300097 b= 0.77695423\n",
      "Epoch: 1851 cost= 0.077018909 W= 0.25279805 b= 0.77841425\n",
      "Epoch: 1901 cost= 0.077015378 W= 0.2526073 b= 0.77978617\n",
      "Epoch: 1951 cost= 0.077012293 W= 0.252428 b= 0.7810759\n",
      "Optimization Finished!\n",
      "cost= 0.077009626 W= 0.25226256 b= 0.7822664\n"
     ]
    },
    {
     "data": {
      "image/png": "[encoded data removed]",
      "text/plain": [
       "<Figure size 432x288 with 1 Axes>"
      ]
     },
     "metadata": {},
     "output_type": "display_data"
    }
   ],
   "source": [
    "# Launch the graph\n",
    "with tf.Session() as sess:\n",
    "    sess.run(init)\n",
    "\n",
    "    # Fit all training data\n",
    "    for epoch in range(training_epochs):\n",
    "        for (x, y) in zip(train_X, train_Y):\n",
    "            sess.run(optimizer, feed_dict={X: x, Y: y})\n",
    "\n",
    "        #Display logs per epoch step\n",
    "        if epoch % display_step == 0:\n",
    "            print(\"Epoch:\", '%04d' % (epoch+1), \"cost=\", \\\n",
    "                \"{:.9f}\".format(sess.run(cost, feed_dict={X: train_X, Y:train_Y})), \\\n",
    "                \"W=\", sess.run(W), \"b=\", sess.run(b))\n",
    "\n",
    "    print(\"Optimization Finished!\")\n",
    "    print(\"cost=\", sess.run(cost, feed_dict={X: train_X, Y: train_Y}), \\\n",
    "          \"W=\", sess.run(W), \"b=\", sess.run(b))\n",
    "\n",
    "    #Graphic display\n",
    "    plt.plot(train_X, train_Y, 'ro', label='Original data')\n",
    "    plt.plot(train_X, sess.run(W) * train_X + sess.run(b), label='Fitted line')\n",
    "    plt.legend()\n",
    "    plt.show()\n"
   ]
  },
  {
   "cell_type": "code",
   "execution_count": null,
   "metadata": {},
   "outputs": [],
   "source": []
  },
  {
   "cell_type": "code",
   "execution_count": null,
   "metadata": {},
   "outputs": [],
   "source": []
  },
  {
   "cell_type": "code",
   "execution_count": null,
   "metadata": {},
   "outputs": [],
   "source": []
  }
 ],
 "metadata": {
  "kernelspec": {
   "display_name": "Python 3",
   "language": "python",
   "name": "python3"
  },
  "language_info": {
   "codemirror_mode": {
    "name": "ipython",
    "version": 3
   },
   "file_extension": ".py",
   "mimetype": "text/x-python",
   "name": "python",
   "nbconvert_exporter": "python",
   "pygments_lexer": "ipython3",
   "version": "3.6.5"
  }
 },
 "nbformat": 4,
 "nbformat_minor": 2
}
